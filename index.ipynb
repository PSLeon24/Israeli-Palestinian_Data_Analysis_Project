{
 "cells": [
  {
   "cell_type": "markdown",
   "id": "3a3116c6",
   "metadata": {},
   "source": [
    "# 1. Import Dependencies and Dataset"
   ]
  },
  {
   "cell_type": "code",
   "execution_count": 67,
   "id": "8c037bb3",
   "metadata": {},
   "outputs": [],
   "source": [
    "import pandas as pd\n",
    "import numpy as np\n",
    "\n",
    "import matplotlib.pyplot as plt\n",
    "import seaborn as sns\n",
    "\n",
    "%matplotlib inline\n",
    "sns.set_theme(style=\"darkgrid\")"
   ]
  },
  {
   "cell_type": "code",
   "execution_count": 56,
   "id": "b7139d78",
   "metadata": {},
   "outputs": [],
   "source": [
    "df = pd.read_csv('./data/fatalities_isr_pse_conflict_2000_to_2023.csv')"
   ]
  },
  {
   "cell_type": "markdown",
   "id": "6f6956af",
   "metadata": {},
   "source": [
    "# 2. Read Acquired Data"
   ]
  },
  {
   "cell_type": "code",
   "execution_count": 57,
   "id": "6363ce82",
   "metadata": {},
   "outputs": [
    {
     "data": {
      "text/html": [
       "<div>\n",
       "<style scoped>\n",
       "    .dataframe tbody tr th:only-of-type {\n",
       "        vertical-align: middle;\n",
       "    }\n",
       "\n",
       "    .dataframe tbody tr th {\n",
       "        vertical-align: top;\n",
       "    }\n",
       "\n",
       "    .dataframe thead th {\n",
       "        text-align: right;\n",
       "    }\n",
       "</style>\n",
       "<table border=\"1\" class=\"dataframe\">\n",
       "  <thead>\n",
       "    <tr style=\"text-align: right;\">\n",
       "      <th></th>\n",
       "      <th>0</th>\n",
       "      <th>1</th>\n",
       "      <th>2</th>\n",
       "      <th>3</th>\n",
       "      <th>4</th>\n",
       "    </tr>\n",
       "  </thead>\n",
       "  <tbody>\n",
       "    <tr>\n",
       "      <th>name</th>\n",
       "      <td>'Abd a-Rahman Suleiman Muhammad Abu Daghash</td>\n",
       "      <td>Usayed Farhan Muhammad 'Ali Abu 'Ali</td>\n",
       "      <td>'Abdallah 'Imad Sa'ed Abu Hassan</td>\n",
       "      <td>Durgham Muhammad Yihya al-Akhras</td>\n",
       "      <td>Raafat 'Omar Ahmad Khamaisah</td>\n",
       "    </tr>\n",
       "    <tr>\n",
       "      <th>date_of_event</th>\n",
       "      <td>2023-09-24</td>\n",
       "      <td>2023-09-24</td>\n",
       "      <td>2023-09-22</td>\n",
       "      <td>2023-09-20</td>\n",
       "      <td>2023-09-19</td>\n",
       "    </tr>\n",
       "    <tr>\n",
       "      <th>age</th>\n",
       "      <td>32.0</td>\n",
       "      <td>21.0</td>\n",
       "      <td>16.0</td>\n",
       "      <td>19.0</td>\n",
       "      <td>15.0</td>\n",
       "    </tr>\n",
       "    <tr>\n",
       "      <th>citizenship</th>\n",
       "      <td>Palestinian</td>\n",
       "      <td>Palestinian</td>\n",
       "      <td>Palestinian</td>\n",
       "      <td>Palestinian</td>\n",
       "      <td>Palestinian</td>\n",
       "    </tr>\n",
       "    <tr>\n",
       "      <th>event_location</th>\n",
       "      <td>Nur Shams R.C.</td>\n",
       "      <td>Nur Shams R.C.</td>\n",
       "      <td>Kfar Dan</td>\n",
       "      <td>'Aqbat Jaber R.C.</td>\n",
       "      <td>Jenin R.C.</td>\n",
       "    </tr>\n",
       "    <tr>\n",
       "      <th>event_location_district</th>\n",
       "      <td>Tulkarm</td>\n",
       "      <td>Tulkarm</td>\n",
       "      <td>Jenin</td>\n",
       "      <td>Jericho</td>\n",
       "      <td>Jenin</td>\n",
       "    </tr>\n",
       "    <tr>\n",
       "      <th>event_location_region</th>\n",
       "      <td>West Bank</td>\n",
       "      <td>West Bank</td>\n",
       "      <td>West Bank</td>\n",
       "      <td>West Bank</td>\n",
       "      <td>West Bank</td>\n",
       "    </tr>\n",
       "    <tr>\n",
       "      <th>date_of_death</th>\n",
       "      <td>2023-09-24</td>\n",
       "      <td>2023-09-24</td>\n",
       "      <td>2023-09-22</td>\n",
       "      <td>2023-09-20</td>\n",
       "      <td>2023-09-19</td>\n",
       "    </tr>\n",
       "    <tr>\n",
       "      <th>gender</th>\n",
       "      <td>M</td>\n",
       "      <td>M</td>\n",
       "      <td>M</td>\n",
       "      <td>M</td>\n",
       "      <td>M</td>\n",
       "    </tr>\n",
       "    <tr>\n",
       "      <th>took_part_in_the_hostilities</th>\n",
       "      <td>NaN</td>\n",
       "      <td>NaN</td>\n",
       "      <td>NaN</td>\n",
       "      <td>NaN</td>\n",
       "      <td>NaN</td>\n",
       "    </tr>\n",
       "    <tr>\n",
       "      <th>place_of_residence</th>\n",
       "      <td>Nur Shams R.C.</td>\n",
       "      <td>Nur Shams R.C.</td>\n",
       "      <td>al-Yamun</td>\n",
       "      <td>'Aqbat Jaber R.C.</td>\n",
       "      <td>Jenin</td>\n",
       "    </tr>\n",
       "    <tr>\n",
       "      <th>place_of_residence_district</th>\n",
       "      <td>Tulkarm</td>\n",
       "      <td>Tulkarm</td>\n",
       "      <td>Jenin</td>\n",
       "      <td>Jericho</td>\n",
       "      <td>Jenin</td>\n",
       "    </tr>\n",
       "    <tr>\n",
       "      <th>type_of_injury</th>\n",
       "      <td>gunfire</td>\n",
       "      <td>gunfire</td>\n",
       "      <td>gunfire</td>\n",
       "      <td>gunfire</td>\n",
       "      <td>gunfire</td>\n",
       "    </tr>\n",
       "    <tr>\n",
       "      <th>ammunition</th>\n",
       "      <td>live ammunition</td>\n",
       "      <td>live ammunition</td>\n",
       "      <td>live ammunition</td>\n",
       "      <td>live ammunition</td>\n",
       "      <td>live ammunition</td>\n",
       "    </tr>\n",
       "    <tr>\n",
       "      <th>killed_by</th>\n",
       "      <td>Israeli security forces</td>\n",
       "      <td>Israeli security forces</td>\n",
       "      <td>Israeli security forces</td>\n",
       "      <td>Israeli security forces</td>\n",
       "      <td>Israeli security forces</td>\n",
       "    </tr>\n",
       "    <tr>\n",
       "      <th>notes</th>\n",
       "      <td>Fatally shot by Israeli forces while standing ...</td>\n",
       "      <td>Fatally shot by Israeli forces while trying to...</td>\n",
       "      <td>Fatally shot by soldiers while firing at them ...</td>\n",
       "      <td>Shot in the head by Israeli forces while throw...</td>\n",
       "      <td>Wounded by soldiers’ gunfire after running awa...</td>\n",
       "    </tr>\n",
       "  </tbody>\n",
       "</table>\n",
       "</div>"
      ],
      "text/plain": [
       "                                                                              0  \\\n",
       "name                                'Abd a-Rahman Suleiman Muhammad Abu Daghash   \n",
       "date_of_event                                                        2023-09-24   \n",
       "age                                                                        32.0   \n",
       "citizenship                                                         Palestinian   \n",
       "event_location                                                   Nur Shams R.C.   \n",
       "event_location_district                                                 Tulkarm   \n",
       "event_location_region                                                 West Bank   \n",
       "date_of_death                                                        2023-09-24   \n",
       "gender                                                                        M   \n",
       "took_part_in_the_hostilities                                                NaN   \n",
       "place_of_residence                                               Nur Shams R.C.   \n",
       "place_of_residence_district                                             Tulkarm   \n",
       "type_of_injury                                                          gunfire   \n",
       "ammunition                                                      live ammunition   \n",
       "killed_by                                               Israeli security forces   \n",
       "notes                         Fatally shot by Israeli forces while standing ...   \n",
       "\n",
       "                                                                              1  \\\n",
       "name                                       Usayed Farhan Muhammad 'Ali Abu 'Ali   \n",
       "date_of_event                                                        2023-09-24   \n",
       "age                                                                        21.0   \n",
       "citizenship                                                         Palestinian   \n",
       "event_location                                                   Nur Shams R.C.   \n",
       "event_location_district                                                 Tulkarm   \n",
       "event_location_region                                                 West Bank   \n",
       "date_of_death                                                        2023-09-24   \n",
       "gender                                                                        M   \n",
       "took_part_in_the_hostilities                                                NaN   \n",
       "place_of_residence                                               Nur Shams R.C.   \n",
       "place_of_residence_district                                             Tulkarm   \n",
       "type_of_injury                                                          gunfire   \n",
       "ammunition                                                      live ammunition   \n",
       "killed_by                                               Israeli security forces   \n",
       "notes                         Fatally shot by Israeli forces while trying to...   \n",
       "\n",
       "                                                                              2  \\\n",
       "name                                           'Abdallah 'Imad Sa'ed Abu Hassan   \n",
       "date_of_event                                                        2023-09-22   \n",
       "age                                                                        16.0   \n",
       "citizenship                                                         Palestinian   \n",
       "event_location                                                         Kfar Dan   \n",
       "event_location_district                                                   Jenin   \n",
       "event_location_region                                                 West Bank   \n",
       "date_of_death                                                        2023-09-22   \n",
       "gender                                                                        M   \n",
       "took_part_in_the_hostilities                                                NaN   \n",
       "place_of_residence                                                     al-Yamun   \n",
       "place_of_residence_district                                               Jenin   \n",
       "type_of_injury                                                          gunfire   \n",
       "ammunition                                                      live ammunition   \n",
       "killed_by                                               Israeli security forces   \n",
       "notes                         Fatally shot by soldiers while firing at them ...   \n",
       "\n",
       "                                                                              3  \\\n",
       "name                                           Durgham Muhammad Yihya al-Akhras   \n",
       "date_of_event                                                        2023-09-20   \n",
       "age                                                                        19.0   \n",
       "citizenship                                                         Palestinian   \n",
       "event_location                                                'Aqbat Jaber R.C.   \n",
       "event_location_district                                                 Jericho   \n",
       "event_location_region                                                 West Bank   \n",
       "date_of_death                                                        2023-09-20   \n",
       "gender                                                                        M   \n",
       "took_part_in_the_hostilities                                                NaN   \n",
       "place_of_residence                                            'Aqbat Jaber R.C.   \n",
       "place_of_residence_district                                             Jericho   \n",
       "type_of_injury                                                          gunfire   \n",
       "ammunition                                                      live ammunition   \n",
       "killed_by                                               Israeli security forces   \n",
       "notes                         Shot in the head by Israeli forces while throw...   \n",
       "\n",
       "                                                                              4  \n",
       "name                                               Raafat 'Omar Ahmad Khamaisah  \n",
       "date_of_event                                                        2023-09-19  \n",
       "age                                                                        15.0  \n",
       "citizenship                                                         Palestinian  \n",
       "event_location                                                       Jenin R.C.  \n",
       "event_location_district                                                   Jenin  \n",
       "event_location_region                                                 West Bank  \n",
       "date_of_death                                                        2023-09-19  \n",
       "gender                                                                        M  \n",
       "took_part_in_the_hostilities                                                NaN  \n",
       "place_of_residence                                                        Jenin  \n",
       "place_of_residence_district                                               Jenin  \n",
       "type_of_injury                                                          gunfire  \n",
       "ammunition                                                      live ammunition  \n",
       "killed_by                                               Israeli security forces  \n",
       "notes                         Wounded by soldiers’ gunfire after running awa...  "
      ]
     },
     "execution_count": 57,
     "metadata": {},
     "output_type": "execute_result"
    }
   ],
   "source": [
    "# Read transposed data by top 5\n",
    "df.head().T"
   ]
  },
  {
   "cell_type": "code",
   "execution_count": 58,
   "id": "9784ed1e",
   "metadata": {},
   "outputs": [
    {
     "data": {
      "text/plain": [
       "(11124, 16)"
      ]
     },
     "execution_count": 58,
     "metadata": {},
     "output_type": "execute_result"
    }
   ],
   "source": [
    "df.shape"
   ]
  },
  {
   "cell_type": "code",
   "execution_count": 59,
   "id": "a18afed7",
   "metadata": {},
   "outputs": [
    {
     "name": "stdout",
     "output_type": "stream",
     "text": [
      "<class 'pandas.core.frame.DataFrame'>\n",
      "RangeIndex: 11124 entries, 0 to 11123\n",
      "Data columns (total 16 columns):\n",
      " #   Column                        Non-Null Count  Dtype  \n",
      "---  ------                        --------------  -----  \n",
      " 0   name                          11124 non-null  object \n",
      " 1   date_of_event                 11124 non-null  object \n",
      " 2   age                           10995 non-null  float64\n",
      " 3   citizenship                   11124 non-null  object \n",
      " 4   event_location                11124 non-null  object \n",
      " 5   event_location_district       11124 non-null  object \n",
      " 6   event_location_region         11124 non-null  object \n",
      " 7   date_of_death                 11124 non-null  object \n",
      " 8   gender                        11104 non-null  object \n",
      " 9   took_part_in_the_hostilities  9694 non-null   object \n",
      " 10  place_of_residence            11056 non-null  object \n",
      " 11  place_of_residence_district   11056 non-null  object \n",
      " 12  type_of_injury                10833 non-null  object \n",
      " 13  ammunition                    5871 non-null   object \n",
      " 14  killed_by                     11124 non-null  object \n",
      " 15  notes                         10844 non-null  object \n",
      "dtypes: float64(1), object(15)\n",
      "memory usage: 1.4+ MB\n"
     ]
    }
   ],
   "source": [
    "df.info()"
   ]
  },
  {
   "cell_type": "code",
   "execution_count": 60,
   "id": "a53b7a96",
   "metadata": {},
   "outputs": [
    {
     "data": {
      "text/html": [
       "<div>\n",
       "<style scoped>\n",
       "    .dataframe tbody tr th:only-of-type {\n",
       "        vertical-align: middle;\n",
       "    }\n",
       "\n",
       "    .dataframe tbody tr th {\n",
       "        vertical-align: top;\n",
       "    }\n",
       "\n",
       "    .dataframe thead th {\n",
       "        text-align: right;\n",
       "    }\n",
       "</style>\n",
       "<table border=\"1\" class=\"dataframe\">\n",
       "  <thead>\n",
       "    <tr style=\"text-align: right;\">\n",
       "      <th></th>\n",
       "      <th>age</th>\n",
       "    </tr>\n",
       "  </thead>\n",
       "  <tbody>\n",
       "    <tr>\n",
       "      <th>count</th>\n",
       "      <td>10995.000000</td>\n",
       "    </tr>\n",
       "    <tr>\n",
       "      <th>mean</th>\n",
       "      <td>26.745703</td>\n",
       "    </tr>\n",
       "    <tr>\n",
       "      <th>std</th>\n",
       "      <td>13.780548</td>\n",
       "    </tr>\n",
       "    <tr>\n",
       "      <th>min</th>\n",
       "      <td>1.000000</td>\n",
       "    </tr>\n",
       "    <tr>\n",
       "      <th>25%</th>\n",
       "      <td>19.000000</td>\n",
       "    </tr>\n",
       "    <tr>\n",
       "      <th>50%</th>\n",
       "      <td>23.000000</td>\n",
       "    </tr>\n",
       "    <tr>\n",
       "      <th>75%</th>\n",
       "      <td>31.000000</td>\n",
       "    </tr>\n",
       "    <tr>\n",
       "      <th>max</th>\n",
       "      <td>112.000000</td>\n",
       "    </tr>\n",
       "  </tbody>\n",
       "</table>\n",
       "</div>"
      ],
      "text/plain": [
       "                age\n",
       "count  10995.000000\n",
       "mean      26.745703\n",
       "std       13.780548\n",
       "min        1.000000\n",
       "25%       19.000000\n",
       "50%       23.000000\n",
       "75%       31.000000\n",
       "max      112.000000"
      ]
     },
     "execution_count": 60,
     "metadata": {},
     "output_type": "execute_result"
    }
   ],
   "source": [
    "df.describe()"
   ]
  },
  {
   "cell_type": "code",
   "execution_count": 61,
   "id": "f09354b8",
   "metadata": {},
   "outputs": [
    {
     "data": {
      "text/plain": [
       "name                               0\n",
       "date_of_event                      0\n",
       "age                              129\n",
       "citizenship                        0\n",
       "event_location                     0\n",
       "event_location_district            0\n",
       "event_location_region              0\n",
       "date_of_death                      0\n",
       "gender                            20\n",
       "took_part_in_the_hostilities    1430\n",
       "place_of_residence                68\n",
       "place_of_residence_district       68\n",
       "type_of_injury                   291\n",
       "ammunition                      5253\n",
       "killed_by                          0\n",
       "notes                            280\n",
       "dtype: int64"
      ]
     },
     "execution_count": 61,
     "metadata": {},
     "output_type": "execute_result"
    }
   ],
   "source": [
    "# Check missing value\n",
    "df.isna().sum()"
   ]
  },
  {
   "cell_type": "code",
   "execution_count": 62,
   "id": "c68768b7",
   "metadata": {},
   "outputs": [
    {
     "name": "stdout",
     "output_type": "stream",
     "text": [
      "0    2023-09-24\n",
      "1    2023-09-24\n",
      "2    2023-09-22\n",
      "3    2023-09-20\n",
      "4    2023-09-19\n",
      "Name: date_of_event, dtype: object 0    2023-09-24\n",
      "1    2023-09-24\n",
      "2    2023-09-22\n",
      "3    2023-09-20\n",
      "4    2023-09-19\n",
      "Name: date_of_death, dtype: object\n"
     ]
    }
   ],
   "source": [
    "print(df['date_of_event'].head(), df['date_of_death'].head())"
   ]
  },
  {
   "cell_type": "markdown",
   "id": "c131f387",
   "metadata": {},
   "source": [
    "|#|Column Name|Description|Missing Value|\n",
    "|--|--|--|--|\n",
    "|0|name|사망자 이름|-|\n",
    "|1|date_of_event|사건 일자|-|\n",
    "|2|age|사망자 나이|exist|\n",
    "|3|citizenship|국적|-|\n",
    "|4|event_location|사건 장소|-|\n",
    "|5|event_location_district|사건 장소 지구|-|\n",
    "|6|event_location_region|사건 장소 지구|-|\n",
    "|7|date_of_death|사망 일자|-|\n",
    "|8|gender|성별|exist|\n",
    "|9|took_part_in_the_hostilities|교전 참가 여부|exist|\n",
    "|10|place_of_residence|거주지|exist|\n",
    "|11|place_of_residence_district|거주지 지구|exist|\n",
    "|12|type_of_injury|부상 종류|exist|\n",
    "|13|ammunition|탄약 종류|exist|\n",
    "|14|killed_by|살해자|-|\n",
    "|15|notes|사망 원인|exist|"
   ]
  },
  {
   "cell_type": "code",
   "execution_count": 75,
   "id": "5bc9112b",
   "metadata": {},
   "outputs": [
    {
     "data": {
      "image/png": "[encoded data removed]",
      "text/plain": [
       "<Figure size 1000x600 with 1 Axes>"
      ]
     },
     "metadata": {},
     "output_type": "display_data"
    }
   ],
   "source": [
    "# Q1. 어느 국가에서 더 많이 사망하였을까?\n",
    "# 국적별 총 사망자 수를 카운트 플롯 작성\n",
    "sns.set(style=\"darkgrid\")\n",
    "plt.figure(figsize=(10, 6))\n",
    "plt.rcParams['font.family'] = 'AppleGothic'\n",
    "\n",
    "# countplot을 사용하여 국적별 사망자 수를 시각화합니다.\n",
    "ax = sns.countplot(x='citizenship', data=df)\n",
    "\n",
    "for p in ax.patches:\n",
    "    ax.annotate(f'{p.get_height():.0f}명', (p.get_x() + p.get_width() / 2., p.get_height()),\n",
    "                ha='center', va='center', fontsize=12, color='black', xytext=(0, 5),\n",
    "                textcoords='offset points')\n",
    "    \n",
    "# 그래프에 제목과 레이블 추가\n",
    "plt.title(\"국적별 총 사망자 수\")\n",
    "plt.xlabel(\"국적\")\n",
    "plt.ylabel(\"사망자 수\")\n",
    "\n",
    "# x 축 레이블을 45도 기울임\n",
    "plt.xticks(rotation=45)\n",
    "\n",
    "# 그래프를 표시\n",
    "plt.show()"
   ]
  },
  {
   "cell_type": "code",
   "execution_count": 68,
   "id": "3abb4fb9",
   "metadata": {},
   "outputs": [
    {
     "data": {
      "image/png": "[encoded data removed]",
      "text/plain": [
       "<Figure size 1200x600 with 1 Axes>"
      ]
     },
     "metadata": {},
     "output_type": "display_data"
    }
   ],
   "source": [
    "# Q2. 몇년도에 \n",
    "# 데이터를 날짜 형식으로 변환\n",
    "df['date_of_death'] = pd.to_datetime(df['date_of_death'])\n",
    "\n",
    "# 데이터를 국적에 따라 그룹화하고 사망자 수를 계산\n",
    "death_by_nationality = df.groupby(['date_of_death', 'citizenship']).size().reset_index(name='사망자 수')\n",
    "\n",
    "# 시계열 데이터 시각화\n",
    "sns.set(style=\"darkgrid\")\n",
    "plt.rcParams['font.family'] = 'AppleGothic'\n",
    "plt.figure(figsize=(12, 6))\n",
    "sns.lineplot(x=\"date_of_death\", y=\"사망자 수\", hue=\"citizenship\", data=death_by_nationality)\n",
    "\n",
    "plt.title(\"국적별 사망자 수 시계열 그래프\")\n",
    "plt.xlabel(\"사망 일자\")\n",
    "plt.ylabel(\"사망자 수\")\n",
    "\n",
    "# 그래프를 표시\n",
    "plt.xticks(rotation=45)\n",
    "plt.show()"
   ]
  },
  {
   "cell_type": "markdown",
   "id": "0bff88d4",
   "metadata": {},
   "source": [
    "# 3. Data Preprocessing"
   ]
  },
  {
   "cell_type": "code",
   "execution_count": null,
   "id": "72728f94",
   "metadata": {},
   "outputs": [],
   "source": []
  },
  {
   "cell_type": "markdown",
   "id": "a5cd1b01",
   "metadata": {},
   "source": [
    "# 4. Data Analysis"
   ]
  },
  {
   "cell_type": "code",
   "execution_count": null,
   "id": "e6bce5de",
   "metadata": {},
   "outputs": [],
   "source": []
  },
  {
   "cell_type": "markdown",
   "id": "7aa970c9",
   "metadata": {},
   "source": [
    "# 5. Data Visualization"
   ]
  },
  {
   "cell_type": "code",
   "execution_count": null,
   "id": "4faec544",
   "metadata": {},
   "outputs": [],
   "source": []
  },
  {
   "cell_type": "markdown",
   "id": "793d08d5",
   "metadata": {},
   "source": [
    "# 6. Conclusion and Summary"
   ]
  },
  {
   "cell_type": "code",
   "execution_count": null,
   "id": "0bf12c1a",
   "metadata": {},
   "outputs": [],
   "source": []
  }
 ],
 "metadata": {
  "kernelspec": {
   "display_name": "PyTorch",
   "language": "python",
   "name": "pytorch_env"
  },
  "language_info": {
   "codemirror_mode": {
    "name": "ipython",
    "version": 3
   },
   "file_extension": ".py",
   "mimetype": "text/x-python",
   "name": "python",
   "nbconvert_exporter": "python",
   "pygments_lexer": "ipython3",
   "version": "3.10.11"
  }
 },
 "nbformat": 4,
 "nbformat_minor": 5
}
